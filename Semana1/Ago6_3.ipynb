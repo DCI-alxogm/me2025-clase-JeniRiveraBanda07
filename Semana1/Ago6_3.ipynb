{
  "nbformat": 4,
  "nbformat_minor": 0,
  "metadata": {
    "colab": {
      "provenance": [],
      "authorship_tag": "ABX9TyN0zvCT+Zvkgwch3uTZLEgW",
      "include_colab_link": true
    },
    "kernelspec": {
      "name": "python3",
      "display_name": "Python 3"
    },
    "language_info": {
      "name": "python"
    }
  },
  "cells": [
    {
      "cell_type": "markdown",
      "metadata": {
        "id": "view-in-github",
        "colab_type": "text"
      },
      "source": [
        "<a href=\"https://colab.research.google.com/github/DCI-alxogm/me2025-clase-JeniRiveraBanda07/blob/main/Semana1/Ago6_3.ipynb\" target=\"_parent\"><img src=\"https://colab.research.google.com/assets/colab-badge.svg\" alt=\"Open In Colab\"/></a>"
      ]
    },
    {
      "cell_type": "code",
      "execution_count": null,
      "metadata": {
        "id": "76-KNhO4fPsJ"
      },
      "outputs": [],
      "source": [
        "#tercer cuaderno"
      ]
    },
    {
      "cell_type": "code",
      "source": [
        "print(\"prueba de cuaderno\")"
      ],
      "metadata": {
        "colab": {
          "base_uri": "https://localhost:8080/"
        },
        "id": "Xdl0epqafUEG",
        "outputId": "6d3932d3-604b-45f5-dacb-b9b0b2f4613b"
      },
      "execution_count": 1,
      "outputs": [
        {
          "output_type": "stream",
          "name": "stdout",
          "text": [
            "prueba de cuaderno\n"
          ]
        }
      ]
    },
    {
      "cell_type": "code",
      "source": [],
      "metadata": {
        "id": "y2Q5lACffYuO"
      },
      "execution_count": null,
      "outputs": []
    }
  ]
}